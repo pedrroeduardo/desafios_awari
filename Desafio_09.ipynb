{
 "cells": [
  {
   "cell_type": "markdown",
   "metadata": {
    "colab_type": "text",
    "id": "view-in-github"
   },
   "source": [
    "![](https://i.imgur.com/YX6UATs.png)"
   ]
  },
  {
   "cell_type": "markdown",
   "metadata": {
    "colab_type": "text",
    "id": "HpvTpUBGf6Jr"
   },
   "source": [
    "### Desafio 9\n",
    "\n",
    "Escreva uma função que retorne a soma dos múltiplos de 3 e 5 entre 0 e um número limite, que vai ser utilizado como parâmetro. \\\n",
    "Por exemplo, se o limite for 20, ele retornará a soma de 3, 5, 6, 9, 10, 12, 15, 18, 20."
   ]
  },
  {
   "cell_type": "code",
   "execution_count": 18,
   "metadata": {
    "colab": {},
    "colab_type": "code",
    "id": "195C6bw-f6Js"
   },
   "outputs": [],
   "source": [
    "def make_list_multiple_from_an_number(number, amount=20):\n",
    "    list = []\n",
    "    for x in range(amount + 1):\n",
    "        list.append(number * x)\n",
    "    \n",
    "    return list"
   ]
  },
  {
   "cell_type": "code",
   "execution_count": 19,
   "metadata": {
    "colab": {},
    "colab_type": "code",
    "id": "a_6aqcKp6wrN"
   },
   "outputs": [],
   "source": [
    "multiple_by_three_list = make_list_multiple_from_an_number(3, 20)\n",
    "multiple_by_five_list = make_list_multiple_from_an_number(5, 20)"
   ]
  },
  {
   "cell_type": "code",
   "execution_count": 24,
   "metadata": {},
   "outputs": [],
   "source": [
    "def return_numbers_that_are_multiple_by_three_and_five(list_three, list_five, amount=20):\n",
    "    new_list = []\n",
    "    for x in range(1, amount + 1):\n",
    "        if x not in new_list:\n",
    "            if x in list_three or x in list_five:\n",
    "                new_list.append(x)\n",
    "                \n",
    "    return new_list"
   ]
  },
  {
   "cell_type": "code",
   "execution_count": 25,
   "metadata": {},
   "outputs": [
    {
     "data": {
      "text/plain": [
       "[3, 5, 6, 9, 10, 12, 15, 18, 20]"
      ]
     },
     "execution_count": 25,
     "metadata": {},
     "output_type": "execute_result"
    }
   ],
   "source": [
    "return_numbers_that_are_multiple_by_three_and_five(multiple_by_three_list, multiple_by_five_list)"
   ]
  },
  {
   "cell_type": "code",
   "execution_count": null,
   "metadata": {},
   "outputs": [],
   "source": []
  }
 ],
 "metadata": {
  "anaconda-cloud": {},
  "colab": {
   "include_colab_link": true,
   "name": "Desafio 9.ipynb",
   "provenance": []
  },
  "kernelspec": {
   "display_name": "Python 3",
   "language": "python",
   "name": "python3"
  },
  "language_info": {
   "codemirror_mode": {
    "name": "ipython",
    "version": 3
   },
   "file_extension": ".py",
   "mimetype": "text/x-python",
   "name": "python",
   "nbconvert_exporter": "python",
   "pygments_lexer": "ipython3",
   "version": "3.8.5"
  }
 },
 "nbformat": 4,
 "nbformat_minor": 4
}
