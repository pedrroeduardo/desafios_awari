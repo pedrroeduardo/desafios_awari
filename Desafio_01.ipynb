{
 "cells": [
  {
   "cell_type": "markdown",
   "metadata": {
    "colab_type": "text",
    "id": "view-in-github"
   },
   "source": [
    "![](https://i.imgur.com/YX6UATs.png)"
   ]
  },
  {
   "cell_type": "markdown",
   "metadata": {
    "colab_type": "text",
    "id": "SbLLE9q1eldC"
   },
   "source": [
    "### Desafio 1\n",
    "\n",
    "Escreva um programa em Python para contabilizar a quantidade de ocorrências de cada palavra."
   ]
  },
  {
   "cell_type": "code",
   "execution_count": 2,
   "metadata": {
    "colab": {},
    "colab_type": "code",
    "id": "WhtbdwFseldD"
   },
   "outputs": [],
   "source": [
    "from collections import Counter\n",
    "\n",
    "palavras = [\n",
    "   'red', 'green', 'black', 'pink', 'black', 'white', 'black', 'eyes',\n",
    "   'white', 'black', 'orange', 'pink', 'pink', 'red', 'red', 'white', 'orange',\n",
    "   'white', \"black\", 'pink', 'green', 'green', 'pink', 'green', 'pink',\n",
    "   'white', 'orange', \"orange\", 'red'\n",
    "]"
   ]
  },
  {
   "cell_type": "code",
   "execution_count": 3,
   "metadata": {},
   "outputs": [],
   "source": [
    "counter = Counter(palavras)"
   ]
  },
  {
   "cell_type": "code",
   "execution_count": 4,
   "metadata": {},
   "outputs": [
    {
     "name": "stdout",
     "output_type": "stream",
     "text": [
      "red foi repetido 4 vezes.\n",
      "green foi repetido 4 vezes.\n",
      "black foi repetido 5 vezes.\n",
      "pink foi repetido 6 vezes.\n",
      "white foi repetido 5 vezes.\n",
      "eyes foi repetido apenas 1 vez.\n",
      "orange foi repetido 4 vezes.\n"
     ]
    }
   ],
   "source": [
    "for palavra in counter:\n",
    "    if counter[palavra] == 1:\n",
    "        print(\"{} foi repetido apenas {} vez.\".format(palavra, counter[palavra]))\n",
    "    else:\n",
    "        print(\"{} foi repetido {} vezes.\".format(palavra, counter[palavra]))\n",
    "        \n",
    "#Aqui usei uma maneira mais facil."
   ]
  },
  {
   "cell_type": "code",
   "execution_count": 5,
   "metadata": {
    "colab": {},
    "colab_type": "code",
    "id": "M58o1U9KfAxa"
   },
   "outputs": [],
   "source": [
    "#Aqui não usarei a nenhum import.\n",
    "\n",
    "def remove_duplicate_from_list(list) -> list:\n",
    "    temp_list = []\n",
    "    for word in list:\n",
    "        if word not in temp_list:\n",
    "            temp_list.append(word)\n",
    "    return temp_list"
   ]
  },
  {
   "cell_type": "code",
   "execution_count": 6,
   "metadata": {},
   "outputs": [
    {
     "name": "stdout",
     "output_type": "stream",
     "text": [
      "['red', 'green', 'black', 'pink', 'white', 'eyes', 'orange']\n"
     ]
    }
   ],
   "source": [
    "no_repeated_word = remove_duplicate_from_list(palavras)\n",
    "print(no_repeated_word)"
   ]
  },
  {
   "cell_type": "code",
   "execution_count": 7,
   "metadata": {},
   "outputs": [],
   "source": [
    "def count_how_much_times_repeat_the_word(target_word):\n",
    "    counter = 0\n",
    "    for word in palavras:\n",
    "        if target_word == word:\n",
    "            counter += 1\n",
    "        \n",
    "    return counter"
   ]
  },
  {
   "cell_type": "code",
   "execution_count": 8,
   "metadata": {},
   "outputs": [],
   "source": [
    "def count_the_words(list):\n",
    "    for palavra in list:\n",
    "        for x in range(len(list)):\n",
    "            counter = count_how_much_times_repeat_the_word(list[x])\n",
    "        \n",
    "            if counter == 1:\n",
    "                print(\"{} foi repetido apenas {} vez.\".format(list[x], counter))\n",
    "            else:\n",
    "                print(\"{} foi repetido {} vezes.\".format(list[x], counter))\n",
    "        break"
   ]
  },
  {
   "cell_type": "code",
   "execution_count": 9,
   "metadata": {},
   "outputs": [
    {
     "name": "stdout",
     "output_type": "stream",
     "text": [
      "red foi repetido 4 vezes.\n",
      "green foi repetido 4 vezes.\n",
      "black foi repetido 5 vezes.\n",
      "pink foi repetido 6 vezes.\n",
      "white foi repetido 5 vezes.\n",
      "eyes foi repetido apenas 1 vez.\n",
      "orange foi repetido 4 vezes.\n"
     ]
    }
   ],
   "source": [
    "count_the_words(no_repeated_word)      "
   ]
  },
  {
   "cell_type": "code",
   "execution_count": null,
   "metadata": {},
   "outputs": [],
   "source": []
  }
 ],
 "metadata": {
  "anaconda-cloud": {},
  "colab": {
   "include_colab_link": true,
   "name": "Desafio 1.ipynb",
   "provenance": []
  },
  "kernelspec": {
   "display_name": "Python 3",
   "language": "python",
   "name": "python3"
  },
  "language_info": {
   "codemirror_mode": {
    "name": "ipython",
    "version": 3
   },
   "file_extension": ".py",
   "mimetype": "text/x-python",
   "name": "python",
   "nbconvert_exporter": "python",
   "pygments_lexer": "ipython3",
   "version": "3.8.5"
  }
 },
 "nbformat": 4,
 "nbformat_minor": 4
}
