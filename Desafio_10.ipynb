{
 "cells": [
  {
   "cell_type": "markdown",
   "metadata": {
    "colab_type": "text",
    "id": "view-in-github"
   },
   "source": [
    "![](https://i.imgur.com/YX6UATs.png)"
   ]
  },
  {
   "cell_type": "markdown",
   "metadata": {
    "colab_type": "text",
    "id": "a4-FLDRof6Jv"
   },
   "source": [
    "### Desafio 10\n",
    "\n",
    "Dada uma lista, divida-a em 3 partes iguais e reverta a ordem de cada lista.\n",
    "\n",
    "**Exemplo:** \n",
    "\n",
    "Entrada: \\\n",
    "sampleList = [11, 45, 8, 23, 14, 12, 78, 45, 89]\n",
    "\n",
    "Saída: \\\n",
    "Parte 1 [8, 45, 11] \\\n",
    "Parte 2 [12, 14, 23] \\\n",
    "Parte 3 [89, 45, 78] "
   ]
  },
  {
   "cell_type": "code",
   "execution_count": 19,
   "metadata": {
    "colab": {},
    "colab_type": "code",
    "id": "IJ70pUjnf6Jw"
   },
   "outputs": [],
   "source": [
    "sampleList = [11, 45, 8, 23, 14, 12, 78, 45, 89]"
   ]
  },
  {
   "cell_type": "code",
   "execution_count": 49,
   "metadata": {},
   "outputs": [],
   "source": [
    "def invert_list(list):\n",
    "    new_list = []\n",
    "    \n",
    "    len_list_count = len(list) - 1\n",
    "    for x in range(len_list_count + 1):\n",
    "        new_list.append(list[len_list_count])\n",
    "        \n",
    "        len_list_count -= 1\n",
    "        \n",
    "    return new_list\n",
    "        "
   ]
  },
  {
   "cell_type": "code",
   "execution_count": 50,
   "metadata": {
    "colab": {},
    "colab_type": "code",
    "id": "pNrXNVqf8Wc1"
   },
   "outputs": [],
   "source": [
    "def make_three_list(list):\n",
    "    list_one = []\n",
    "    list_two = []\n",
    "    list_three = []\n",
    "    \n",
    "    len_from_list = len(list)\n",
    "    \n",
    "    much_numbers_need_to_be_in_each_list = len_from_list / 3\n",
    "    \n",
    "    count = len_from_list\n",
    "    for x in list:\n",
    "        if len(list_one) != much_numbers_need_to_be_in_each_list:\n",
    "            list_one.append(x)\n",
    "        \n",
    "        elif len(list_two) != much_numbers_need_to_be_in_each_list:\n",
    "            list_two.append(x)\n",
    "            \n",
    "        elif len(list_three) != much_numbers_need_to_be_in_each_list:\n",
    "            list_three.append(x)\n",
    "            \n",
    "        count -= 1\n",
    "        \n",
    "    inverted_list_one = invert_list(list_one)\n",
    "    inverted_list_two = invert_list(list_two)\n",
    "    inverted_list_three = invert_list(list_three)\n",
    "            \n",
    "    print(inverted_list_one)\n",
    "    print(inverted_list_two)\n",
    "    print(inverted_list_three)\n",
    "        \n",
    "    "
   ]
  },
  {
   "cell_type": "code",
   "execution_count": 51,
   "metadata": {},
   "outputs": [
    {
     "name": "stdout",
     "output_type": "stream",
     "text": [
      "[8, 45, 11]\n",
      "[12, 14, 23]\n",
      "[89, 45, 78]\n"
     ]
    }
   ],
   "source": [
    "make_three_list(sampleList)"
   ]
  },
  {
   "cell_type": "code",
   "execution_count": null,
   "metadata": {},
   "outputs": [],
   "source": []
  }
 ],
 "metadata": {
  "anaconda-cloud": {},
  "colab": {
   "include_colab_link": true,
   "name": "Desafio 10.ipynb",
   "provenance": []
  },
  "kernelspec": {
   "display_name": "Python 3",
   "language": "python",
   "name": "python3"
  },
  "language_info": {
   "codemirror_mode": {
    "name": "ipython",
    "version": 3
   },
   "file_extension": ".py",
   "mimetype": "text/x-python",
   "name": "python",
   "nbconvert_exporter": "python",
   "pygments_lexer": "ipython3",
   "version": "3.8.5"
  }
 },
 "nbformat": 4,
 "nbformat_minor": 4
}
